{
 "cells": [
  {
   "attachments": {},
   "cell_type": "markdown",
   "metadata": {},
   "source": [
    "## Imports"
   ]
  },
  {
   "cell_type": "code",
   "execution_count": 1,
   "metadata": {},
   "outputs": [],
   "source": [
    "import pandas as pd\n",
    "import plotly.express as px\n",
    "\n",
    "import dash\n",
    "from dash import dcc\n",
    "from dash import html\n",
    "import datetime\n",
    "from dash.dependencies import Input, Output, State\n",
    "import pandas_datareader.data as web"
   ]
  },
  {
   "attachments": {},
   "cell_type": "markdown",
   "metadata": {},
   "source": [
    "## Carregando dados dos valores das ações"
   ]
  },
  {
   "cell_type": "code",
   "execution_count": 2,
   "metadata": {},
   "outputs": [
    {
     "data": {
      "text/html": [
       "<div>\n",
       "<style scoped>\n",
       "    .dataframe tbody tr th:only-of-type {\n",
       "        vertical-align: middle;\n",
       "    }\n",
       "\n",
       "    .dataframe tbody tr th {\n",
       "        vertical-align: top;\n",
       "    }\n",
       "\n",
       "    .dataframe thead th {\n",
       "        text-align: right;\n",
       "    }\n",
       "</style>\n",
       "<table border=\"1\" class=\"dataframe\">\n",
       "  <thead>\n",
       "    <tr style=\"text-align: right;\">\n",
       "      <th></th>\n",
       "      <th>data</th>\n",
       "      <th>acao</th>\n",
       "      <th>close</th>\n",
       "      <th>high</th>\n",
       "      <th>low</th>\n",
       "      <th>open</th>\n",
       "      <th>volume</th>\n",
       "    </tr>\n",
       "  </thead>\n",
       "  <tbody>\n",
       "    <tr>\n",
       "      <th>0</th>\n",
       "      <td>2019-01-02</td>\n",
       "      <td>JNJ</td>\n",
       "      <td>114.9620</td>\n",
       "      <td>115.5310</td>\n",
       "      <td>113.6470</td>\n",
       "      <td>115.3150</td>\n",
       "      <td>8.480359e+06</td>\n",
       "    </tr>\n",
       "    <tr>\n",
       "      <th>1</th>\n",
       "      <td>2019-01-02</td>\n",
       "      <td>PFE</td>\n",
       "      <td>37.3441</td>\n",
       "      <td>37.5599</td>\n",
       "      <td>36.8123</td>\n",
       "      <td>37.2319</td>\n",
       "      <td>2.904233e+07</td>\n",
       "    </tr>\n",
       "    <tr>\n",
       "      <th>2</th>\n",
       "      <td>2019-01-02</td>\n",
       "      <td>MRNA</td>\n",
       "      <td>15.3300</td>\n",
       "      <td>15.4500</td>\n",
       "      <td>14.5100</td>\n",
       "      <td>14.9300</td>\n",
       "      <td>2.318094e+06</td>\n",
       "    </tr>\n",
       "    <tr>\n",
       "      <th>3</th>\n",
       "      <td>2019-01-03</td>\n",
       "      <td>JNJ</td>\n",
       "      <td>113.1380</td>\n",
       "      <td>115.4320</td>\n",
       "      <td>112.8140</td>\n",
       "      <td>115.3150</td>\n",
       "      <td>9.617137e+06</td>\n",
       "    </tr>\n",
       "    <tr>\n",
       "      <th>4</th>\n",
       "      <td>2019-01-03</td>\n",
       "      <td>PFE</td>\n",
       "      <td>36.2979</td>\n",
       "      <td>37.4203</td>\n",
       "      <td>36.2209</td>\n",
       "      <td>37.3343</td>\n",
       "      <td>3.132042e+07</td>\n",
       "    </tr>\n",
       "  </tbody>\n",
       "</table>\n",
       "</div>"
      ],
      "text/plain": [
       "        data  acao     close      high       low      open        volume\n",
       "0 2019-01-02   JNJ  114.9620  115.5310  113.6470  115.3150  8.480359e+06\n",
       "1 2019-01-02   PFE   37.3441   37.5599   36.8123   37.2319  2.904233e+07\n",
       "2 2019-01-02  MRNA   15.3300   15.4500   14.5100   14.9300  2.318094e+06\n",
       "3 2019-01-03   JNJ  113.1380  115.4320  112.8140  115.3150  9.617137e+06\n",
       "4 2019-01-03   PFE   36.2979   37.4203   36.2209   37.3343  3.132042e+07"
      ]
     },
     "execution_count": 2,
     "metadata": {},
     "output_type": "execute_result"
    }
   ],
   "source": [
    "# https://stooq.com/\n",
    "start = datetime.datetime(2019, 1, 1)\n",
    "end = datetime.datetime(2021, 2, 15)\n",
    "\n",
    "df = web.DataReader(['SVAC','JNJ','PFE','MRNA','BNTX'],\n",
    "                    'stooq', start=start, end=end)\n",
    "\n",
    "df = df.stack().reset_index()\n",
    "df.columns = ['data', 'acao', 'close', 'high', 'low', 'open', 'volume']\n",
    "df.head()"
   ]
  },
  {
   "cell_type": "code",
   "execution_count": 3,
   "metadata": {},
   "outputs": [],
   "source": [
    "cores = [\"black\", \"red\", \"blue\", \"orange\"]"
   ]
  },
  {
   "cell_type": "code",
   "execution_count": 4,
   "metadata": {},
   "outputs": [
    {
     "data": {
      "text/plain": [
       "array(['JNJ', 'PFE', 'MRNA', 'BNTX'], dtype=object)"
      ]
     },
     "execution_count": 4,
     "metadata": {},
     "output_type": "execute_result"
    }
   ],
   "source": [
    "acoes = df['acao'].unique()\n",
    "acoes"
   ]
  },
  {
   "attachments": {},
   "cell_type": "markdown",
   "metadata": {},
   "source": [
    "## Iniciando Aplicação"
   ]
  },
  {
   "cell_type": "code",
   "execution_count": 5,
   "metadata": {},
   "outputs": [],
   "source": [
    "app = dash.Dash()\n",
    "app.title = 'Dashboard'"
   ]
  },
  {
   "cell_type": "code",
   "execution_count": 6,
   "metadata": {},
   "outputs": [],
   "source": [
    "app.layout = html.Div(\n",
    "    children = [\n",
    "        html.H1(id='titulo-output', children='Valor ação covid-19', style={}),\n",
    "\n",
    "        dcc.Dropdown(id='acoes-drop',\n",
    "                     multi=True,\n",
    "                     options=[{'label': x, 'value': x} for x in sorted(acoes)],\n",
    "                     value=acoes,\n",
    "                     style={'text-align': 'center'}),\n",
    "        \n",
    "        html.Br(),\n",
    "\n",
    "        dcc.Graph(id='grafico-output', figure={}),\n",
    "\n",
    "        dcc.RadioItems(id='cores-id', value='black', options=[{'label': x, 'value': x} for x in cores])\n",
    "    ]\n",
    ")"
   ]
  },
  {
   "attachments": {},
   "cell_type": "markdown",
   "metadata": {},
   "source": [
    "**Callback**"
   ]
  },
  {
   "cell_type": "code",
   "execution_count": 10,
   "metadata": {},
   "outputs": [],
   "source": [
    "@app.callback(\n",
    "    [Output('grafico-output', 'figure'), Output('titulo-output', 'style')],\n",
    "    [Input(component_id='cores-id', component_property='value'),\n",
    "    Input(component_id='acoes-drop', component_property='value')],\n",
    "    prevent_initial_cal=False\n",
    ")\n",
    "def atualiza_grafico(cor_sel, acao_sel):\n",
    "    \n",
    "    if not len(acao_sel):\n",
    "        return dash.no_update, {'color': cor_sel}\n",
    "    else:\n",
    "        df_tmp = df[df['acao'].isin(acao_sel)]\n",
    "        fig = px.line(df_tmp, x='data', y='close', color='acao')\n",
    "\n",
    "    return fig, {'color': cor_sel, 'text-align': 'center'}"
   ]
  },
  {
   "cell_type": "code",
   "execution_count": 11,
   "metadata": {},
   "outputs": [
    {
     "name": "stdout",
     "output_type": "stream",
     "text": [
      "Dash is running on http://127.0.0.1:8050/\n",
      "\n",
      " * Serving Flask app '__main__'\n",
      " * Debug mode: on\n"
     ]
    }
   ],
   "source": [
    "if __name__ == '__main__':\n",
    "    app.run_server(debug=True, use_reloader=False)"
   ]
  }
 ],
 "metadata": {
  "kernelspec": {
   "display_name": "gbc_case",
   "language": "python",
   "name": "python3"
  },
  "language_info": {
   "codemirror_mode": {
    "name": "ipython",
    "version": 3
   },
   "file_extension": ".py",
   "mimetype": "text/x-python",
   "name": "python",
   "nbconvert_exporter": "python",
   "pygments_lexer": "ipython3",
   "version": "3.8.13"
  },
  "orig_nbformat": 4
 },
 "nbformat": 4,
 "nbformat_minor": 2
}
